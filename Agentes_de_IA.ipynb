{
  "nbformat": 4,
  "nbformat_minor": 0,
  "metadata": {
    "colab": {
      "provenance": [],
      "include_colab_link": true
    },
    "kernelspec": {
      "name": "python3",
      "display_name": "Python 3"
    },
    "language_info": {
      "name": "python"
    }
  },
  "cells": [
    {
      "cell_type": "markdown",
      "metadata": {
        "id": "view-in-github",
        "colab_type": "text"
      },
      "source": [
        "<a href=\"https://colab.research.google.com/github/NandoLFC12/Exerc-cio-1/blob/main/Agentes_de_IA.ipynb\" target=\"_parent\"><img src=\"https://colab.research.google.com/assets/colab-badge.svg\" alt=\"Open In Colab\"/></a>"
      ]
    },
    {
      "cell_type": "code",
      "execution_count": 1,
      "metadata": {
        "colab": {
          "base_uri": "https://localhost:8080/"
        },
        "id": "Ky9gAjEZgvFm",
        "outputId": "aa67b2f1-e974-44db-b2da-f626e73632e3"
      },
      "outputs": [
        {
          "output_type": "stream",
          "name": "stdout",
          "text": [
            "\u001b[?25l   \u001b[90m━━━━━━━━━━━━━━━━━━━━━━━━━━━━━━━━━━━━━━━━\u001b[0m \u001b[32m0.0/42.0 kB\u001b[0m \u001b[31m?\u001b[0m eta \u001b[36m-:--:--\u001b[0m\r\u001b[2K   \u001b[90m━━━━━━━━━━━━━━━━━━━━━━━━━━━━━━━━━━━━━━━━\u001b[0m \u001b[32m42.0/42.0 kB\u001b[0m \u001b[31m1.9 MB/s\u001b[0m eta \u001b[36m0:00:00\u001b[0m\n",
            "\u001b[?25h"
          ]
        }
      ],
      "source": [
        "!pip install -q langchain langchain-google-genai google-generativeai # baixa a blibliteca"
      ]
    },
    {
      "cell_type": "markdown",
      "source": [
        "Google Key"
      ],
      "metadata": {
        "id": "1hUvaPZ3pwCf"
      }
    },
    {
      "cell_type": "code",
      "source": [
        "from google.colab import userdata #chama a bliblioteca baixada\n",
        "from langchain_google_genai import ChatGoogleGenerativeAI #importar da API\n",
        "\n",
        "Googlekey = userdata.get('GEMINI_API_KEY') #variavel para chamar a googlekey depois\n"
      ],
      "metadata": {
        "id": "RXVSwOA5pzTK"
      },
      "execution_count": 2,
      "outputs": []
    },
    {
      "cell_type": "markdown",
      "source": [
        "conexão com o google gemini"
      ],
      "metadata": {
        "id": "nCbhRbOswYAB"
      }
    },
    {
      "cell_type": "code",
      "source": [
        "llm = ChatGoogleGenerativeAI(\n",
        "    model = 'gemini-2.5-flash', #chama o modelo da IA\n",
        "    temperaure=0.0, #liberdade/cratividade da IA\n",
        "    api_key=Googlekey #chamando api_key\n",
        ")"
      ],
      "metadata": {
        "id": "IgNQRzE2rfVt"
      },
      "execution_count": 3,
      "outputs": []
    },
    {
      "cell_type": "markdown",
      "source": [
        "Teste IA"
      ],
      "metadata": {
        "id": "6NqOVghFxdaP"
      }
    },
    {
      "cell_type": "code",
      "source": [
        "respteste = llm.invoke('Quantos dias de ferias eu tenho sendo aluno da escola amorim') #Prompt\n",
        "print(respteste.content) #saida"
      ],
      "metadata": {
        "colab": {
          "base_uri": "https://localhost:8080/"
        },
        "id": "UwNKlSFUxcjr",
        "outputId": "78207fef-f67c-42eb-951c-35b29bb862a6"
      },
      "execution_count": 4,
      "outputs": [
        {
          "output_type": "stream",
          "name": "stdout",
          "text": [
            "Como sou uma inteligência artificial e não tenho acesso em tempo real aos calendários específicos de escolas individuais, não consigo te informar com exatidão quantos dias de férias a Escola Amorim oferece.\n",
            "\n",
            "Para ter essa informação precisa, você deve consultar diretamente a **Escola Amorim**. As melhores formas de fazer isso são:\n",
            "\n",
            "1.  **Verificar o calendário escolar:** A escola geralmente distribui um calendário no início do ano letivo com todas as datas importantes, incluindo feriados e períodos de férias.\n",
            "2.  **Acessar o site oficial da escola:** Muitas escolas publicam seus calendários online.\n",
            "3.  **Entrar em contato com a secretaria da escola:** Eles terão a informação mais atualizada.\n",
            "4.  **Perguntar a um professor ou coordenador:** Eles também saberão os períodos de recesso.\n",
            "\n",
            "No Brasil, as escolas costumam ter dois períodos principais de férias: as férias de meio de ano (geralmente em julho, com duração de 15 a 30 dias) e as férias de fim de ano (dezembro/janeiro, com duração de cerca de 45 a 60 dias), além de feriados nacionais e pontos facultativos. A duração exata e as datas variam de uma escola para outra e de um ano para o outro.\n"
          ]
        }
      ]
    },
    {
      "cell_type": "markdown",
      "source": [
        "Triagem de Prompt 45"
      ],
      "metadata": {
        "id": "KlBlAhVoyx4z"
      }
    },
    {
      "cell_type": "code",
      "source": [
        "TRIAGEM_PROMPT = (\n",
        "    \"Você é um triador de Service Desk para políticas internas da empresa Carraro Desenvolvimento. \"\n",
        "    \"Dada a mensagem do usuário, retorne SOMENTE um JSON com:\\n\"\n",
        "    \"{\\n\"\n",
        "    '  \"decisao\": \"AUTO_RESOLVER\" | \"PEDIR_INFO\" | \"ABRIR_CHAMADO\",\\n'\n",
        "    '  \"urgencia\": \"BAIXA\" | \"MEDIA\" | \"ALTA\",\\n'\n",
        "    '  \"campos_faltantes\": [\"...\"]\\n'\n",
        "    \"}\\n\"\n",
        "    \"Regras:\\n\"\n",
        "    '- **AUTO_RESOLVER**: Perguntas claras sobre regras ou procedimentos descritos nas políticas (Ex: \"Posso reembolsar a internet do meu home office?\", \"Como funciona a política de alimentação em viagens?\").\\n'\n",
        "    '- **PEDIR_INFO**: Mensagens vagas ou que faltam informações para identificar o tema ou contexto (Ex: \"Preciso de ajuda com uma política\", \"Tenho uma dúvida geral\").\\n'\n",
        "    '- **ABRIR_CHAMADO**: Pedidos de exceção, liberação, aprovação ou acesso especial, ou quando o usuário explicitamente pede para abrir um chamado (Ex: \"Quero exceção para trabalhar 5 dias remoto.\", \"Solicito liberação para anexos externos.\", \"Por favor, abra um chamado para o RH.\").'\n",
        "    \"Analise a mensagem e decida a ação mais apropriada.\"\n",
        ")"
      ],
      "metadata": {
        "id": "VFnUTiBFxuo1"
      },
      "execution_count": 5,
      "outputs": []
    },
    {
      "cell_type": "code",
      "source": [
        "from pydantic import BaseModel, Field\n",
        "from typing import Literal, List, Dict\n",
        "\n",
        "class TriagemOut(BaseModel):\n",
        "  decisao: Literal['AUTO_RESOLVER','PEDIR_INFO','ABRIR_CHAMADO']\n",
        "  urgencia: Literal['BAIXA,MEDIA,ALTA']\n",
        "  campos_faltantes: List[str] = Field(default_factory=list)"
      ],
      "metadata": {
        "id": "copgoEwePWrq"
      },
      "execution_count": 9,
      "outputs": []
    },
    {
      "cell_type": "code",
      "source": [],
      "metadata": {
        "id": "rJHUrbnsQ8AQ"
      },
      "execution_count": null,
      "outputs": []
    }
  ]
}