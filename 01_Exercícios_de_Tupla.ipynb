{
  "cells": [
    {
      "cell_type": "markdown",
      "metadata": {
        "id": "view-in-github",
        "colab_type": "text"
      },
      "source": [
        "<a href=\"https://colab.research.google.com/github/NandoLFC12/Exerc-cio-1/blob/main/01_Exerc%C3%ADcios_de_Tupla.ipynb\" target=\"_parent\"><img src=\"https://colab.research.google.com/assets/colab-badge.svg\" alt=\"Open In Colab\"/></a>"
      ]
    },
    {
      "cell_type": "markdown",
      "metadata": {
        "id": "FHwWnfSPmcwv"
      },
      "source": [
        "# Exercícios\n",
        "\n",
        "São exercícios bem parecidos com os que fizemos com listas. Mas na tupla, podemos não só trabalhar com índices, mas fazer o \"unpacking\" das tuplas, o que pode facilitar nossos códigos.\n",
        "\n",
        "## 1. Análise de Vendas\n",
        "\n",
        "Nesse exercício vamos fazer uma \"análise simples\" de atingimento de Meta.\n",
        "\n",
        "Temos uma lista com os vendedores e os valores de vendas e queremos identificar (printar) quais os vendedores que bateram a meta e qual foi o valor que eles venderam."
      ]
    },
    {
      "cell_type": "code",
      "execution_count": 1,
      "metadata": {
        "id": "dg-S-TZUmcw1",
        "colab": {
          "base_uri": "https://localhost:8080/"
        },
        "outputId": "62e3449d-391b-4ce0-ad12-8e32589debf3"
      },
      "outputs": [
        {
          "output_type": "stream",
          "name": "stdout",
          "text": [
            "Os funcionarios João conseguiram bater a meta com cada um deles arrecadando 15000\n",
            "Os funcionarios Julia conseguiram bater a meta com cada um deles arrecadando 27000\n",
            "Os funcionarios Ana conseguiram bater a meta com cada um deles arrecadando 10300\n"
          ]
        }
      ],
      "source": [
        "meta = 10000\n",
        "vendas = [\n",
        "    ('João', 15000),\n",
        "    ('Julia', 27000),\n",
        "    ('Marcus', 9900),\n",
        "    ('Maria', 3750),\n",
        "    ('Ana', 10300),\n",
        "    ('Alon', 7870),\n",
        "]\n",
        "\n",
        "for item in vendas:\n",
        "  Funcionarios, ganho = item\n",
        "  if ganho > meta:\n",
        "    print('Os funcionarios {} conseguiram bater a meta com cada um deles arrecadando {}'.format(Funcionarios,ganho))"
      ]
    },
    {
      "cell_type": "markdown",
      "metadata": {
        "id": "KUXrQ4DSmcw2"
      },
      "source": [
        "## 2. Comparação com Ano Anterior\n",
        "\n",
        "Digamos que você está analisando as vendas de produtos de um ecommerce e quer identificar quais produtos tiveram no ano de 2020 mais vendas do que no ano de 2019, para reportar isso para a diretoria.\n",
        "\n",
        "Sua resposta pode ser um print de cada produto, qual foi a venda de 2019, a venda de 2020 e o % de crescimento de 2020 para 2019.\n",
        "\n",
        "Lembrando, para calcular o % de crescimento de um produto de um ano para o outro, podemos fazer: (vendas_produto2020/vendas_produto2019 - 1)\n",
        "\n",
        "A lógica da tupla é: (produto, vendas2019, vendas2020)"
      ]
    },
    {
      "cell_type": "code",
      "execution_count": 2,
      "metadata": {
        "id": "Q5jsGAX5mcw3",
        "colab": {
          "base_uri": "https://localhost:8080/"
        },
        "outputId": "156865d6-4e3a-4e2f-cd4b-9194c416538f"
      },
      "outputs": [
        {
          "output_type": "stream",
          "name": "stdout",
          "text": [
            "diferença entre os produtos iphone \n",
            " entre 2020 e 2019 foram R$393494\n",
            "diferença entre os produtos galaxy \n",
            " entre 2020 e 2019 foram R$244294\n",
            "diferença entre os produtos ipad \n",
            " entre 2020 e 2019 foram R$26963\n",
            "diferença entre os produtos tv \n",
            " entre 2020 e 2019 foram R$382351\n",
            "diferença entre os produtos máquina de café \n",
            " entre 2020 e 2019 foram R$149005\n",
            "diferença entre os produtos kindle \n",
            " entre 2020 e 2019 foram R$78829\n",
            "diferença entre os produtos geladeira \n",
            " entre 2020 e 2019 foram R$710330\n",
            "diferença entre os produtos adega \n",
            " entre 2020 e 2019 foram R$646015\n",
            "diferença entre os produtos notebook dell \n",
            " entre 2020 e 2019 foram R$272152\n",
            "diferença entre os produtos notebook hp \n",
            " entre 2020 e 2019 foram R$75444\n",
            "diferença entre os produtos notebook asus \n",
            " entre 2020 e 2019 foram R$324830\n",
            "diferença entre os produtos microsoft surface \n",
            " entre 2020 e 2019 foram R$228670\n",
            "diferença entre os produtos webcam \n",
            " entre 2020 e 2019 foram R$58165\n",
            "diferença entre os produtos caixa de som \n",
            " entre 2020 e 2019 foram R$235610\n",
            "diferença entre os produtos microfone \n",
            " entre 2020 e 2019 foram R$316310\n",
            "diferença entre os produtos câmera canon \n",
            " entre 2020 e 2019 foram R$403182\n"
          ]
        }
      ],
      "source": [
        "vendas_produtos = [('iphone', 558147, 951642), ('galaxy', 712350, 244295), ('ipad', 573823, 26964), ('tv', 405252, 787604), ('máquina de café', 718654, 867660), ('kindle', 531580, 78830), ('geladeira', 973139, 710331), ('adega', 892292, 646016), ('notebook dell', 422760, 694913), ('notebook hp', 154753, 539704), ('notebook asus', 887061, 324831), ('microsoft surface', 438508, 667179), ('webcam', 237467, 295633), ('caixa de som', 489705, 725316), ('microfone', 328311, 644622), ('câmera canon', 591120, 994303)]\n",
        "\n",
        "#seu código aqui\n",
        "\n",
        "for item in vendas_produtos:\n",
        "  vendas_produtos, vendas2019, vendas2020 = item\n",
        "  vendas = vendas2020 % vendas2019 - 1\n",
        "  print('diferença entre os produtos {} \\n entre 2020 e 2019 foram R${}'.format(vendas_produtos,vendas))\n"
      ]
    },
    {
      "cell_type": "code",
      "source": [],
      "metadata": {
        "id": "sGRMSf8jYppM"
      },
      "execution_count": null,
      "outputs": []
    }
  ],
  "metadata": {
    "kernelspec": {
      "display_name": "Python 3",
      "language": "python",
      "name": "python3"
    },
    "language_info": {
      "codemirror_mode": {
        "name": "ipython",
        "version": 3
      },
      "file_extension": ".py",
      "mimetype": "text/x-python",
      "name": "python",
      "nbconvert_exporter": "python",
      "pygments_lexer": "ipython3",
      "version": "3.8.3"
    },
    "colab": {
      "provenance": [],
      "include_colab_link": true
    }
  },
  "nbformat": 4,
  "nbformat_minor": 0
}